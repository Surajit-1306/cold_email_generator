{
 "cells": [
  {
   "cell_type": "code",
   "execution_count": 20,
   "id": "0c3fd4c4",
   "metadata": {},
   "outputs": [],
   "source": [
    "from langchain_groq import ChatGroq\n",
    "\n",
    "llm = ChatGroq(\n",
    "    model=\"llama-3.1-70b-versatile\",\n",
    "    temperature=0.0,\n",
    "    groq_api_key=\"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\"\n",
    "    # other params...\n",
    ")\n",
    "\n",
    "res=llm.invoke(\"Who is the prime minister of India?\")"
   ]
  },
  {
   "cell_type": "code",
   "execution_count": 21,
   "id": "07735f83",
   "metadata": {},
   "outputs": [
    {
     "data": {
      "text/plain": [
       "AIMessage(content='As of my cut-off knowledge in 2023, the Prime Minister of India is Narendra Modi. However, please note that my information may not be up-to-date, and I recommend verifying this information with a more recent source for the most accurate answer.', response_metadata={'token_usage': {'completion_tokens': 52, 'prompt_tokens': 43, 'total_tokens': 95, 'completion_time': 0.20950475, 'prompt_time': 0.013223837, 'queue_time': 15.207193705, 'total_time': 0.222728587}, 'model_name': 'llama-3.1-70b-versatile', 'system_fingerprint': 'fp_9260b4bb2e', 'finish_reason': 'stop', 'logprobs': None}, id='run-00a79808-104d-4fa4-8a90-7ce0a8270667-0', usage_metadata={'input_tokens': 43, 'output_tokens': 52, 'total_tokens': 95})"
      ]
     },
     "execution_count": 21,
     "metadata": {},
     "output_type": "execute_result"
    }
   ],
   "source": [
    "res"
   ]
  },
  {
   "cell_type": "code",
   "execution_count": 22,
   "id": "8f60e465",
   "metadata": {},
   "outputs": [],
   "source": [
    "from langchain_community.document_loaders import WebBaseLoader\n",
    "\n",
    "loader = WebBaseLoader(\"https://about.puma.com/en/jobs/manager-development-innovation-footwear-r32025\")"
   ]
  },
  {
   "cell_type": "code",
   "execution_count": 23,
   "id": "4ded40b2",
   "metadata": {},
   "outputs": [],
   "source": [
    "page_data=loader.load().pop().page_content"
   ]
  },
  {
   "cell_type": "code",
   "execution_count": 24,
   "id": "8bd87981",
   "metadata": {},
   "outputs": [
    {
     "data": {
      "text/plain": [
       "\"\\n\\n\\n\\n\\n\\n\\n\\n\\n\\n\\n\\n\\n\\n\\n\\n\\n\\n\\n\\n\\nManager Development Innovation Footwear\\n\\n\\n\\n\\n\\n\\n\\n\\n\\n\\n\\n\\n\\n\\n\\n\\n\\n\\n\\n\\n\\n\\n\\n\\n\\n\\n\\n\\t\\t\\t\\tSkip to main content\\n\\t\\t\\t\\n\\n\\n\\n\\n\\n\\n\\n\\n\\n\\n\\n\\n\\nMenu\\n\\n\\n\\n\\n\\n\\t\\t\\t\\t\\t\\t\\tBack\\n\\t\\t\\t\\t\\t\\t\\n\\n\\nClose\\n\\n\\n\\n\\n\\nThis is PUMA\\n\\n\\n\\nAbout Puma\\n\\n\\nOUR STRATEGY\\n\\n\\nOur Sports\\n\\n\\n\\nFootball and Other Teamsports\\n\\n\\nTrack and Field\\n\\n\\nMotorsport\\n\\n\\nGolf\\n\\n\\nBasketball\\n\\n\\n\\n\\n\\nOur Management\\n\\n\\nHistory\\n\\n\\nArchive Stories\\n\\n\\n\\n\\n\\nNewsroom\\n\\n\\n\\nNews\\n\\n\\nImages and Footage\\n\\n\\nMedia Contacts\\n\\n\\nNews Calendar\\n\\n\\nEmployee Magazine\\n\\n\\n\\n\\n\\nInvestor Relations\\n\\n\\n\\nShare\\n\\n\\n\\nShare Price\\n\\n\\nAnalyst Coverage\\n\\n\\nShare Buyback 2024 - 2025\\n\\n\\nShareholder Structure\\n\\n\\nVoting Rights Notifications\\n\\n\\nDirectors' Dealings\\n\\n\\n\\n\\n\\nInvestor News\\n\\n\\nFinancial Publications\\n\\n\\nCalendar\\n\\n\\nCapital Markets Day\\n\\n\\nAnnual General Meeting\\n\\n\\nOur Management\\n\\n\\nCorporate Governance\\n\\n\\nSustainability\\n\\n\\nContact IR\\n\\n\\n\\n\\n\\nSustainability\\n\\n\\n\\nOur Approach\\n\\n\\nOur Targets\\n\\n\\nEnvironment\\n\\n\\nHuman Rights\\n\\n\\nCodes, Policies and Handbooks\\n\\n\\nReporting\\n\\n\\nFOREVER. BETTER.\\n\\n\\n\\n\\n\\nInnovation\\n\\n\\n\\nFOOTWEAR TECHNOLOGIES\\n\\n\\nAPPAREL TECHNOLOGIES\\n\\n\\n\\n\\n\\nCareers\\n\\n\\n\\nJob Openings\\n\\n\\nWorking at Puma\\n\\n\\n\\nCommunity Engagement\\n\\n\\nUnboxing your career\\n\\n\\nUnlocking your potential\\n\\n\\nWellbeing at PUMA\\n\\n\\n\\n\\n\\nTeams\\n\\n\\n\\nCREATE\\n\\n\\n\\nDesign\\n\\n\\nInnovation\\n\\n\\nMarketing\\n\\n\\nMerchandising & Go-to-Market\\n\\n\\nProduct Development\\n\\n\\nProduct Management\\n\\n\\n\\n\\n\\nDRIVE\\n\\n\\n\\nBusiness Solutions\\n\\n\\nCommunications\\n\\n\\nE-Commerce\\n\\n\\nFinance\\n\\n\\nInternal Audit\\n\\n\\nInformation Technology\\n\\n\\nLegal\\n\\n\\nLogistics\\n\\n\\nPeople & Organization\\n\\n\\nSales\\n\\n\\nSourcing\\n\\n\\n\\n\\n\\n\\n\\n\\nRetail Store\\n\\n\\n\\nRetail Training\\n\\n\\n\\n\\n\\nFUTURE TALENTS\\n\\n\\n\\nInterns\\n\\n\\nApprentices\\n\\n\\nCooperation with Universities\\n\\n\\n\\n\\n\\nLocations\\n\\n\\n\\n\\n\\nDiversity\\n\\n\\n\\n\\n\\n\\n\\n\\n\\nStores\\n\\n\\n\\n\\n\\n\\nContact us\\nEnglish\\n\\n\\n\\n\\n\\n\\n\\n\\n\\n\\n\\n\\n\\n\\n\\n\\nStores\\n\\n\\n\\n\\n\\nSelect Language\\n\\nEnglish\\n\\nEnglish\\n\\n\\n\\n\\n\\n\\n\\n\\n\\n\\n\\nContact us\\n\\n\\n\\n\\n\\n\\n\\n\\n\\n\\nEnter a search term\\n\\n\\n\\n\\n\\n\\n\\n\\n\\n\\n\\n\\n\\n\\n\\n\\n\\n\\n\\n\\n\\n\\n\\n\\n\\n\\n\\nApply now\\n\\n\\n\\n\\n\\n\\n\\n\\n\\n\\n\\n\\n\\n\\n\\n\\n\\n\\n\\n\\n\\n\\n\\n\\n\\n\\n\\n\\n\\n\\tProduct Development\\n\\t\\n\\nManager Development  Innovation Footwear\\n\\n\\nHo Chi Minh City, Vietnam\\n\\n\\tSPEED & SPIRIT is what we look for in our candidates, defined by some simple values that inspire us to BE DRIVEN in our performance, BE VIBRANT in our sporting legacy, BE TOGETHER in our team spirit, and BE YOU to let our individual talent and experience shine. Applying for a job at PUMA is easy. Simply click APPLY ONLINE and follow the steps to upload your application.\\n\\t\\n\\n\\n\\n\\n\\n\\n\\nYour Talent\\n\\n\\nCollege or University graduatedAt least 5-10 year working experience in footwear industryPassion to provide solution\\xa0Fast decision making, manage teamsDetails oriented, drive for results\\n\\n\\n\\n\\nYour Mission\\n\\n\\nResponsible for the research and development from the approved design through the confirmation stageCoordinate all phases of development utilizing the available resources of Design, Product Line Manager, Model Shop, Wear Testing and PUMA Herzo InnovationAssist and contribute ideas for product design, construction, materials, compounds and components to enhance functionalityGenerate a technical development package for each project for initiating the development processWork with Innovation HQ\\xa0 to develop projects within established timelinesDaily communication to PUMA for expediting development processExamine all prototypes to assure all specifications are correct and within product cost targetsPrepare and update project status reportsCoordinate all testing at appropriate stages. Evaluate the feedback and implement revisionAssist on production quality issues when necessary\\n\\n\\n\\n\\n\\n\\n\\n\\n\\nPUMA provides equal opportunities for all job applicants, regardless of race, color, religion, national origin, sex, gender identity or expression, sexual orientation, age, or disability. Equality for all is one of the core principles at PUMA and we do not tolerate any form of harassment or discrimination.\\nPUMA supports over 21,000 employees across 51 countries. The PUMA Group owns the brand PUMA, Cobra Golf and stichd, and is headquartered in Herzogenaurach, Germany.\\n\\n\\nApply now\\n\\n\\n\\nShare it on\\n\\n\\n\\n\\n\\n\\n\\n\\n\\n\\n\\n\\n\\n\\n\\n\\n\\n\\n\\n\\n\\n\\n\\n\\n\\n\\n\\n\\n\\n\\n\\n\\n\\n\\n\\nWant to join our team?\\n\\nApplication Tips\\nFAQ\\n\\n\\n\\n\\n\\n\\n\\n\\n\\n\\n\\n\\n\\n\\n\\n\\n\\n\\n\\n\\n\\n\\n\\nSouth East Asia\\n\\n\\nThere's so much to do and so much to see in South East Asia – like PUMA SEA\\n\\n\\n\\nSEA Awaits\\n\\n\\n\\n\\n\\n\\n\\n\\n\\n\\n\\n\\n\\n\\n\\n\\n\\n\\n\\n\\n\\n\\n\\n\\n\\n\\n\\n\\n\\n\\n\\n\\n\\nPUMA Product Develop\\xadment\\n\\n\\nJoin in on a highly efficient team of product developers to translate ideas into business. PUMA Product Development works with PUMA's various business units and suppliers to breathe life into all our products.\\n\\n\\n\\nMeet the Team\\n\\n\\n\\n\\n\\n\\n\\n\\n\\n\\n\\n\\n\\n\\n\\n\\n\\n\\n\\n\\n\\t\\tOther interesting jobs\\n\\t\\n\\n\\n\\n\\n\\n\\n\\n\\nInternship Internal Communications\\n\\nCommunications\\n\\n\\n\\nHerzogenaurach, Germany\\n\\n\\n\\n\\n\\n\\n\\n\\n\\n\\n\\nInternship Marketing Sportstyle\\n\\nMarketing\\n\\n\\n\\nHerzogenaurach, Germany\\n\\n\\n\\n\\n\\n\\n\\n\\n\\n\\n\\nInternship Sports Marketing Teamsport\\n\\nMarketing\\n\\n\\n\\nHerzogenaurach, Germany\\n\\n\\n\\n\\n\\n\\n\\n\\n\\n\\n\\nSenior Executive, Apparel Merchandising\\n\\nMerchandising / Buying\\n\\n\\n\\nTaipei City, Taiwan China\\n\\n\\n\\n\\n\\n\\n\\n\\n\\n\\n\\nExecutive, Retail Merchandising\\n\\nRetail Management / Operations\\n\\n\\n\\nTaipei City, Taiwan China\\n\\n\\n\\n\\n\\n\\n\\n\\n\\n\\n\\nAnalista de Logística\\n\\nOperations / Supply Chain & Logistics\\n\\n\\n\\nSantiago, Chile\\n\\n\\n\\n\\n\\n\\n\\n\\n\\n\\n\\n\\n\\n\\n\\n\\n\\n\\n\\n\\n\\n\\n\\n\\n\\n\\n\\n\\n\\n\\n\\n\\n\\n\\n\\n\\n\\n\\n\\n\\n\\n\\n\\n\\n\\nShop at PUMA\\n\\n\\n\\n\\nFooter Menu\\n\\n\\nPress\\n\\n\\nNewsroom\\n\\n\\n\\n\\nContact\\n\\n\\nGet in Touch with us\\n\\n\\nStart Your Career at PUMA\\n\\n\\n\\n\\nPuma Insights\\n\\n\\nAbout PUMA\\n\\n\\nAnnual Report 2023\\n\\n\\nPuma Blog\\n\\n\\n\\n\\n\\n\\n\\n\\n\\n\\n\\n\\nPrivacy\\n\\n\\nCookie Settings\\n\\n\\nLegal\\n\\n\\nImprint\\n\\n\\nShopping App Privacy Policy\\n\\n\\nVulnerability Disclosure Policy\\n\\n\\nComplaints Procedure\\n\\n\\n\\n\\n\\n\\nAll rights reserved © PUMA SE 2024\\n\\t\\t\\t\\n\\n\\n\\n\\n\\n\\n\\n\\n\\n\\n\\n\\n\\n\\n\\n\""
      ]
     },
     "execution_count": 24,
     "metadata": {},
     "output_type": "execute_result"
    }
   ],
   "source": [
    "page_data"
   ]
  },
  {
   "cell_type": "code",
   "execution_count": 32,
   "id": "2f632daa",
   "metadata": {},
   "outputs": [
    {
     "name": "stdout",
     "output_type": "stream",
     "text": [
      "```\n",
      "{\n",
      "  \"role\": \"Manager Development Innovation Footwear\",\n",
      "  \"experience\": \"At least 5-10 year working experience in footwear industry\",\n",
      "  \"skills\": [\n",
      "    \"Passion to provide solution\",\n",
      "    \"Fast decision making\",\n",
      "    \"Manage teams\",\n",
      "    \"Details oriented\",\n",
      "    \"Drive for results\"\n",
      "  ],\n",
      "  \"description\": \"Responsible for the research and development from the approved design through the confirmation stage. Coordinate all phases of development utilizing the available resources of Design, Product Line Manager, Model Shop, Wear Testing and PUMA Herzo Innovation. Assist and contribute ideas for product design, construction, materials, compounds and components to enhance functionality. Generate a technical development package for each project for initiating the development process. Work with Innovation HQ to develop projects within established timelines. Daily communication to PUMA for expediting development process. Examine all prototypes to assure all specifications are correct and within product cost targets. Prepare and update project status reports. Coordinate all testing at appropriate stages. Evaluate the feedback and implement revision. Assist on production quality issues when necessary.\"\n",
      "}\n",
      "```\n"
     ]
    }
   ],
   "source": [
    "from langchain_core.prompts import PromptTemplate\n",
    "prompt_extract=PromptTemplate.from_template(\"\"\"\n",
    "### scrap text from website \n",
    "{page_data}\n",
    "###instructions\n",
    "the scrapped text is from a job posting of a company.\n",
    "your job is to go through it and extract them and  return json format..\n",
    "extract the role , experience , skills, and description as the key of valid json...\n",
    "\n",
    "#### valid json (no preamble) \n",
    "\"\"\")\n",
    "chain_extract=prompt_extract|llm\n",
    "res=chain_extract.invoke(input={\"page_data\": page_data})\n",
    "print(res.content)"
   ]
  },
  {
   "cell_type": "code",
   "execution_count": 33,
   "id": "bd90e31a",
   "metadata": {},
   "outputs": [
    {
     "data": {
      "text/plain": [
       "{'role': 'Manager Development Innovation Footwear',\n",
       " 'experience': 'At least 5-10 year working experience in footwear industry',\n",
       " 'skills': ['Passion to provide solution',\n",
       "  'Fast decision making',\n",
       "  'Manage teams',\n",
       "  'Details oriented',\n",
       "  'Drive for results'],\n",
       " 'description': 'Responsible for the research and development from the approved design through the confirmation stage. Coordinate all phases of development utilizing the available resources of Design, Product Line Manager, Model Shop, Wear Testing and PUMA Herzo Innovation. Assist and contribute ideas for product design, construction, materials, compounds and components to enhance functionality. Generate a technical development package for each project for initiating the development process. Work with Innovation HQ to develop projects within established timelines. Daily communication to PUMA for expediting development process. Examine all prototypes to assure all specifications are correct and within product cost targets. Prepare and update project status reports. Coordinate all testing at appropriate stages. Evaluate the feedback and implement revision. Assist on production quality issues when necessary.'}"
      ]
     },
     "execution_count": 33,
     "metadata": {},
     "output_type": "execute_result"
    }
   ],
   "source": [
    "from langchain_core.output_parsers import JsonOutputParser\n",
    "json_parser=JsonOutputParser()\n",
    "json_res=json_parser.parse(res.content)\n",
    "json_res"
   ]
  },
  {
   "cell_type": "code",
   "execution_count": 34,
   "id": "068a91ea",
   "metadata": {},
   "outputs": [],
   "source": [
    "import pandas as pd"
   ]
  },
  {
   "cell_type": "code",
   "execution_count": 35,
   "id": "f6057c06",
   "metadata": {},
   "outputs": [],
   "source": [
    "df=pd.read_csv(\"my_portfolio.csv\")"
   ]
  },
  {
   "cell_type": "code",
   "execution_count": 36,
   "id": "1faac0d2",
   "metadata": {},
   "outputs": [
    {
     "data": {
      "text/html": [
       "<div>\n",
       "<style scoped>\n",
       "    .dataframe tbody tr th:only-of-type {\n",
       "        vertical-align: middle;\n",
       "    }\n",
       "\n",
       "    .dataframe tbody tr th {\n",
       "        vertical-align: top;\n",
       "    }\n",
       "\n",
       "    .dataframe thead th {\n",
       "        text-align: right;\n",
       "    }\n",
       "</style>\n",
       "<table border=\"1\" class=\"dataframe\">\n",
       "  <thead>\n",
       "    <tr style=\"text-align: right;\">\n",
       "      <th></th>\n",
       "      <th>Techstack</th>\n",
       "      <th>Links</th>\n",
       "    </tr>\n",
       "  </thead>\n",
       "  <tbody>\n",
       "    <tr>\n",
       "      <th>0</th>\n",
       "      <td>React, Node.js, MongoDB</td>\n",
       "      <td>https://example.com/react-portfolio</td>\n",
       "    </tr>\n",
       "    <tr>\n",
       "      <th>1</th>\n",
       "      <td>Angular,.NET, SQL Server</td>\n",
       "      <td>https://example.com/angular-portfolio</td>\n",
       "    </tr>\n",
       "    <tr>\n",
       "      <th>2</th>\n",
       "      <td>Vue.js, Ruby on Rails, PostgreSQL</td>\n",
       "      <td>https://example.com/vue-portfolio</td>\n",
       "    </tr>\n",
       "    <tr>\n",
       "      <th>3</th>\n",
       "      <td>Python, Django, MySQL</td>\n",
       "      <td>https://example.com/python-portfolio</td>\n",
       "    </tr>\n",
       "    <tr>\n",
       "      <th>4</th>\n",
       "      <td>Java, Spring Boot, Oracle</td>\n",
       "      <td>https://example.com/java-portfolio</td>\n",
       "    </tr>\n",
       "    <tr>\n",
       "      <th>5</th>\n",
       "      <td>Flutter, Firebase, GraphQL</td>\n",
       "      <td>https://example.com/flutter-portfolio</td>\n",
       "    </tr>\n",
       "    <tr>\n",
       "      <th>6</th>\n",
       "      <td>WordPress, PHP, MySQL</td>\n",
       "      <td>https://example.com/wordpress-portfolio</td>\n",
       "    </tr>\n",
       "    <tr>\n",
       "      <th>7</th>\n",
       "      <td>Magento, PHP, MySQL</td>\n",
       "      <td>https://example.com/magento-portfolio</td>\n",
       "    </tr>\n",
       "    <tr>\n",
       "      <th>8</th>\n",
       "      <td>React Native, Node.js, MongoDB</td>\n",
       "      <td>https://example.com/react-native-portfolio</td>\n",
       "    </tr>\n",
       "    <tr>\n",
       "      <th>9</th>\n",
       "      <td>iOS, Swift, Core Data</td>\n",
       "      <td>https://example.com/ios-portfolio</td>\n",
       "    </tr>\n",
       "    <tr>\n",
       "      <th>10</th>\n",
       "      <td>Android, Java, Room Persistence</td>\n",
       "      <td>https://example.com/android-portfolio</td>\n",
       "    </tr>\n",
       "    <tr>\n",
       "      <th>11</th>\n",
       "      <td>Kotlin, Android, Firebase</td>\n",
       "      <td>https://example.com/kotlin-android-portfolio</td>\n",
       "    </tr>\n",
       "    <tr>\n",
       "      <th>12</th>\n",
       "      <td>Android TV, Kotlin, Android NDK</td>\n",
       "      <td>https://example.com/android-tv-portfolio</td>\n",
       "    </tr>\n",
       "    <tr>\n",
       "      <th>13</th>\n",
       "      <td>iOS, Swift, ARKit</td>\n",
       "      <td>https://example.com/ios-ar-portfolio</td>\n",
       "    </tr>\n",
       "    <tr>\n",
       "      <th>14</th>\n",
       "      <td>Cross-platform, Xamarin, Azure</td>\n",
       "      <td>https://example.com/xamarin-portfolio</td>\n",
       "    </tr>\n",
       "    <tr>\n",
       "      <th>15</th>\n",
       "      <td>Backend, Kotlin, Spring Boot</td>\n",
       "      <td>https://example.com/kotlin-backend-portfolio</td>\n",
       "    </tr>\n",
       "    <tr>\n",
       "      <th>16</th>\n",
       "      <td>Frontend, TypeScript, Angular</td>\n",
       "      <td>https://example.com/typescript-frontend-portfolio</td>\n",
       "    </tr>\n",
       "    <tr>\n",
       "      <th>17</th>\n",
       "      <td>Full-stack, JavaScript, Express.js</td>\n",
       "      <td>https://example.com/full-stack-js-portfolio</td>\n",
       "    </tr>\n",
       "    <tr>\n",
       "      <th>18</th>\n",
       "      <td>Machine Learning, Python, TensorFlow</td>\n",
       "      <td>https://example.com/ml-python-portfolio</td>\n",
       "    </tr>\n",
       "    <tr>\n",
       "      <th>19</th>\n",
       "      <td>DevOps, Jenkins, Docker</td>\n",
       "      <td>https://example.com/devops-portfolio</td>\n",
       "    </tr>\n",
       "  </tbody>\n",
       "</table>\n",
       "</div>"
      ],
      "text/plain": [
       "                               Techstack  \\\n",
       "0                React, Node.js, MongoDB   \n",
       "1               Angular,.NET, SQL Server   \n",
       "2      Vue.js, Ruby on Rails, PostgreSQL   \n",
       "3                  Python, Django, MySQL   \n",
       "4              Java, Spring Boot, Oracle   \n",
       "5             Flutter, Firebase, GraphQL   \n",
       "6                  WordPress, PHP, MySQL   \n",
       "7                    Magento, PHP, MySQL   \n",
       "8         React Native, Node.js, MongoDB   \n",
       "9                  iOS, Swift, Core Data   \n",
       "10       Android, Java, Room Persistence   \n",
       "11             Kotlin, Android, Firebase   \n",
       "12       Android TV, Kotlin, Android NDK   \n",
       "13                     iOS, Swift, ARKit   \n",
       "14        Cross-platform, Xamarin, Azure   \n",
       "15          Backend, Kotlin, Spring Boot   \n",
       "16         Frontend, TypeScript, Angular   \n",
       "17    Full-stack, JavaScript, Express.js   \n",
       "18  Machine Learning, Python, TensorFlow   \n",
       "19               DevOps, Jenkins, Docker   \n",
       "\n",
       "                                                Links  \n",
       "0                 https://example.com/react-portfolio  \n",
       "1               https://example.com/angular-portfolio  \n",
       "2                   https://example.com/vue-portfolio  \n",
       "3                https://example.com/python-portfolio  \n",
       "4                  https://example.com/java-portfolio  \n",
       "5               https://example.com/flutter-portfolio  \n",
       "6             https://example.com/wordpress-portfolio  \n",
       "7               https://example.com/magento-portfolio  \n",
       "8          https://example.com/react-native-portfolio  \n",
       "9                   https://example.com/ios-portfolio  \n",
       "10              https://example.com/android-portfolio  \n",
       "11       https://example.com/kotlin-android-portfolio  \n",
       "12           https://example.com/android-tv-portfolio  \n",
       "13               https://example.com/ios-ar-portfolio  \n",
       "14              https://example.com/xamarin-portfolio  \n",
       "15       https://example.com/kotlin-backend-portfolio  \n",
       "16  https://example.com/typescript-frontend-portfolio  \n",
       "17        https://example.com/full-stack-js-portfolio  \n",
       "18            https://example.com/ml-python-portfolio  \n",
       "19               https://example.com/devops-portfolio  "
      ]
     },
     "execution_count": 36,
     "metadata": {},
     "output_type": "execute_result"
    }
   ],
   "source": [
    "df"
   ]
  },
  {
   "cell_type": "code",
   "execution_count": 37,
   "id": "0fb98ff2",
   "metadata": {},
   "outputs": [],
   "source": [
    "import uuid\n",
    "import chromadb\n",
    "client=chromadb.PersistentClient(\"Vector_stores\")\n",
    "collection=client.get_or_create_collection(name=\"portfolio\")\n",
    "\n",
    "\n",
    "if not collection.count():\n",
    "    for _,row in df.iterrows():\n",
    "        collection.add(\n",
    "        documents=row['Techstack'],\n",
    "        metadatas={\"links\":row['Links']},\n",
    "        ids=[str(uuid.uuid4())]\n",
    "                \n",
    "                )"
   ]
  },
  {
   "cell_type": "code",
   "execution_count": 38,
   "id": "2549593c",
   "metadata": {},
   "outputs": [],
   "source": [
    "links=collection.query(query_texts=json_res['skills'],n_results=2).get(\"metadatas\",[])"
   ]
  },
  {
   "cell_type": "code",
   "execution_count": 39,
   "id": "1d148e3d",
   "metadata": {},
   "outputs": [
    {
     "data": {
      "text/plain": [
       "['Passion to provide solution',\n",
       " 'Fast decision making',\n",
       " 'Manage teams',\n",
       " 'Details oriented',\n",
       " 'Drive for results']"
      ]
     },
     "execution_count": 39,
     "metadata": {},
     "output_type": "execute_result"
    }
   ],
   "source": [
    "job=json_res\n",
    "json_res['skills']"
   ]
  },
  {
   "cell_type": "code",
   "execution_count": 40,
   "id": "fcfd0d62",
   "metadata": {},
   "outputs": [
    {
     "name": "stdout",
     "output_type": "stream",
     "text": [
      "Subject: Enhance Your Footwear Development Process with ABC's Expertise\n",
      "\n",
      "Dear Hiring Manager,\n",
      "\n",
      "I came across the job description for the Manager Development Innovation Footwear role at PUMA, and I was impressed by the company's commitment to innovation and excellence. As a Business Development Executive at ABC, I believe our company can support PUMA in achieving its goals by streamlining the development process and enhancing overall efficiency.\n",
      "\n",
      "At ABC, we specialize in providing tailored solutions that cater to the unique needs of our clients. Our expertise in DevOps, Magento, and Python can be leveraged to optimize the footwear development process, from design to production. Our team can assist in generating technical development packages, coordinating testing, and evaluating feedback to ensure that all specifications are met within product cost targets.\n",
      "\n",
      "Our portfolio showcases our capabilities in:\n",
      "\n",
      "* DevOps: https://example.com/devops-portfolio\n",
      "* Magento: https://example.com/magento-portfolio\n",
      "* Python: https://example.com/ml-python-portfolio\n",
      "\n",
      "These solutions can be adapted to support PUMA's innovation initiatives, such as the PUMA Herzo Innovation project. By partnering with ABC, PUMA can benefit from our expertise in process optimization, cost reduction, and scalability.\n",
      "\n",
      "I would be delighted to discuss how ABC can support PUMA in achieving its goals. Please feel free to contact me to schedule a call.\n",
      "\n",
      "Best regards,\n",
      "\n",
      "Surajit Nandi\n",
      "Business Development Executive\n",
      "ABC Company\n"
     ]
    }
   ],
   "source": [
    "prompt_email = PromptTemplate.from_template(\n",
    "        \"\"\"\n",
    "        ### JOB DESCRIPTION:\n",
    "        {job_description}\n",
    "        \n",
    "        ### INSTRUCTION:\n",
    "        You are Surajit Nandi, a business development executive at ABC Company. ABC is an AI & Software Consulting company dedicated to facilitating\n",
    "        the seamless integration of business processes through automated tools. \n",
    "        Over our experience, we have empowered numerous enterprises with tailored solutions, fostering scalability, \n",
    "        process optimization, cost reduction, and heightened overall efficiency. \n",
    "        Your job is to write a cold email to the client regarding the job mentioned above describing the capability of ABC \n",
    "        in fulfilling their needs.\n",
    "        Also add the most relevant ones from the following links to showcase ABC's portfolio: {link_list}\n",
    "        Remember you are Mohan, BDE at ABC. \n",
    "        Do not provide a preamble.\n",
    "        ### EMAIL (NO PREAMBLE):\n",
    "        \n",
    "        \"\"\"\n",
    "        )\n",
    "\n",
    "chain_email = prompt_email | llm\n",
    "res = chain_email.invoke({\"job_description\": str(job), \"link_list\": links})\n",
    "print(res.content)"
   ]
  },
  {
   "cell_type": "code",
   "execution_count": null,
   "id": "7b453d6a",
   "metadata": {},
   "outputs": [],
   "source": []
  }
 ],
 "metadata": {
  "kernelspec": {
   "display_name": "Python 3 (ipykernel)",
   "language": "python",
   "name": "python3"
  },
  "language_info": {
   "codemirror_mode": {
    "name": "ipython",
    "version": 3
   },
   "file_extension": ".py",
   "mimetype": "text/x-python",
   "name": "python",
   "nbconvert_exporter": "python",
   "pygments_lexer": "ipython3",
   "version": "3.9.13"
  }
 },
 "nbformat": 4,
 "nbformat_minor": 5
}
